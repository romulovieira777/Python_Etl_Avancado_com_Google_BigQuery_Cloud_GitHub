{
 "cells": [
  {
   "cell_type": "code",
   "id": "initial_id",
   "metadata": {
    "collapsed": true,
    "ExecuteTime": {
     "end_time": "2024-09-06T13:44:48.228528Z",
     "start_time": "2024-09-06T13:44:48.224271Z"
    }
   },
   "source": "nome01 = 'Felicty Smoke'",
   "outputs": [],
   "execution_count": 1
  },
  {
   "metadata": {},
   "cell_type": "markdown",
   "source": [
    "Resultado abaixo\n",
    "\n",
    "# Resultado 02\n",
    "\n",
    "## Teste02"
   ],
   "id": "2a1c498df88683ae"
  },
  {
   "metadata": {
    "ExecuteTime": {
     "end_time": "2024-09-06T13:44:48.811021Z",
     "start_time": "2024-09-06T13:44:48.807376Z"
    }
   },
   "cell_type": "code",
   "source": "print(nome01)",
   "id": "d239c7527ca7df3a",
   "outputs": [
    {
     "name": "stdout",
     "output_type": "stream",
     "text": [
      "Felicty Smoke\n"
     ]
    }
   ],
   "execution_count": 2
  },
  {
   "metadata": {},
   "cell_type": "markdown",
   "source": "### Teste 03",
   "id": "5e7319dc3a83fa96"
  },
  {
   "metadata": {},
   "cell_type": "markdown",
   "source": "#### Teste 04",
   "id": "a31556b10a775282"
  },
  {
   "metadata": {
    "ExecuteTime": {
     "end_time": "2024-09-06T13:48:22.907045Z",
     "start_time": "2024-09-06T13:48:22.902740Z"
    }
   },
   "cell_type": "code",
   "source": [
    "nome02 = 'Oliver Queen'\n",
    "nome03 = 'John Diggle'\n",
    "nome04 = 'Thea Queen'"
   ],
   "id": "8a168b8b756830f9",
   "outputs": [],
   "execution_count": 3
  },
  {
   "metadata": {
    "ExecuteTime": {
     "end_time": "2024-09-06T13:48:42.467525Z",
     "start_time": "2024-09-06T13:48:42.462821Z"
    }
   },
   "cell_type": "code",
   "source": "print(nome02)   # Isso significa nome do protagonista",
   "id": "4caa51fcbb5e299c",
   "outputs": [
    {
     "name": "stdout",
     "output_type": "stream",
     "text": [
      "Oliver Queen\n"
     ]
    }
   ],
   "execution_count": 4
  },
  {
   "metadata": {
    "ExecuteTime": {
     "end_time": "2024-09-06T13:48:43.760836Z",
     "start_time": "2024-09-06T13:48:43.756501Z"
    }
   },
   "cell_type": "code",
   "source": "print(nome03)",
   "id": "3e83789575258fda",
   "outputs": [
    {
     "name": "stdout",
     "output_type": "stream",
     "text": [
      "John Diggle\n"
     ]
    }
   ],
   "execution_count": 5
  },
  {
   "metadata": {
    "ExecuteTime": {
     "end_time": "2024-09-06T13:48:46.396023Z",
     "start_time": "2024-09-06T13:48:46.392312Z"
    }
   },
   "cell_type": "code",
   "source": "print(nome04)",
   "id": "13b5e6d0e99edc06",
   "outputs": [
    {
     "name": "stdout",
     "output_type": "stream",
     "text": [
      "Thea Queen\n"
     ]
    }
   ],
   "execution_count": 6
  },
  {
   "metadata": {
    "ExecuteTime": {
     "end_time": "2024-09-06T13:52:08.354529Z",
     "start_time": "2024-09-06T13:52:08.349856Z"
    }
   },
   "cell_type": "code",
   "source": "# Comentando apenas uma linha no Python",
   "id": "8a500e1a773e32eb",
   "outputs": [],
   "execution_count": 7
  },
  {
   "metadata": {
    "ExecuteTime": {
     "end_time": "2024-09-06T13:52:09.667037Z",
     "start_time": "2024-09-06T13:52:09.659858Z"
    }
   },
   "cell_type": "code",
   "source": [
    "\"\"\"\n",
    "Comentário de multiplas linhas\n",
    "Linha 01\n",
    "Linha 02\n",
    "Linha 03\n",
    "\"\"\""
   ],
   "id": "c45eed1f031c2d7f",
   "outputs": [
    {
     "data": {
      "text/plain": [
       "'\\nComentário de multiplas linhas\\nLinha 01\\nLinha 02\\nLinha 03\\n'"
      ]
     },
     "execution_count": 8,
     "metadata": {},
     "output_type": "execute_result"
    }
   ],
   "execution_count": 8
  },
  {
   "metadata": {
    "ExecuteTime": {
     "end_time": "2024-09-06T13:55:29.305964Z",
     "start_time": "2024-09-06T13:55:29.301842Z"
    }
   },
   "cell_type": "code",
   "source": "testenum = 1 + 1",
   "id": "4efe8f3e5f94e9b6",
   "outputs": [],
   "execution_count": 9
  },
  {
   "metadata": {
    "ExecuteTime": {
     "end_time": "2024-09-06T13:55:32.283248Z",
     "start_time": "2024-09-06T13:55:32.277180Z"
    }
   },
   "cell_type": "code",
   "source": "print(testenum)",
   "id": "9b046d262a697e05",
   "outputs": [
    {
     "name": "stdout",
     "output_type": "stream",
     "text": [
      "2\n"
     ]
    }
   ],
   "execution_count": 10
  }
 ],
 "metadata": {
  "kernelspec": {
   "display_name": "Python 3",
   "language": "python",
   "name": "python3"
  },
  "language_info": {
   "codemirror_mode": {
    "name": "ipython",
    "version": 2
   },
   "file_extension": ".py",
   "mimetype": "text/x-python",
   "name": "python",
   "nbconvert_exporter": "python",
   "pygments_lexer": "ipython2",
   "version": "2.7.6"
  }
 },
 "nbformat": 4,
 "nbformat_minor": 5
}
